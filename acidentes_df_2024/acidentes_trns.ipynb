{
 "cells": [
  {
   "cell_type": "markdown",
   "metadata": {},
   "source": [
    "# Analisando dados de acidentes no DF em 2024"
   ]
  },
  {
   "cell_type": "code",
   "execution_count": 34,
   "metadata": {},
   "outputs": [],
   "source": [
    "import pandas as pd\n",
    "import matplotlib.pyplot as plt\n",
    "import folium\n",
    "from folium.plugins import HeatMap"
   ]
  },
  {
   "cell_type": "code",
   "execution_count": 3,
   "metadata": {},
   "outputs": [],
   "source": [
    "df = pd.read_csv('datatran2024.csv', sep=';', encoding='ISO-8859-1')"
   ]
  },
  {
   "cell_type": "code",
   "execution_count": 4,
   "metadata": {},
   "outputs": [
    {
     "data": {
      "text/html": [
       "<div>\n",
       "<style scoped>\n",
       "    .dataframe tbody tr th:only-of-type {\n",
       "        vertical-align: middle;\n",
       "    }\n",
       "\n",
       "    .dataframe tbody tr th {\n",
       "        vertical-align: top;\n",
       "    }\n",
       "\n",
       "    .dataframe thead th {\n",
       "        text-align: right;\n",
       "    }\n",
       "</style>\n",
       "<table border=\"1\" class=\"dataframe\">\n",
       "  <thead>\n",
       "    <tr style=\"text-align: right;\">\n",
       "      <th></th>\n",
       "      <th>id</th>\n",
       "      <th>data_inversa</th>\n",
       "      <th>dia_semana</th>\n",
       "      <th>horario</th>\n",
       "      <th>uf</th>\n",
       "      <th>br</th>\n",
       "      <th>km</th>\n",
       "      <th>municipio</th>\n",
       "      <th>causa_acidente</th>\n",
       "      <th>tipo_acidente</th>\n",
       "      <th>...</th>\n",
       "      <th>feridos_graves</th>\n",
       "      <th>ilesos</th>\n",
       "      <th>ignorados</th>\n",
       "      <th>feridos</th>\n",
       "      <th>veiculos</th>\n",
       "      <th>latitude</th>\n",
       "      <th>longitude</th>\n",
       "      <th>regional</th>\n",
       "      <th>delegacia</th>\n",
       "      <th>uop</th>\n",
       "    </tr>\n",
       "  </thead>\n",
       "  <tbody>\n",
       "    <tr>\n",
       "      <th>263</th>\n",
       "      <td>573425.0</td>\n",
       "      <td>2024-01-08</td>\n",
       "      <td>segunda-feira</td>\n",
       "      <td>18:00:00</td>\n",
       "      <td>DF</td>\n",
       "      <td>20</td>\n",
       "      <td>13</td>\n",
       "      <td>BRASILIA</td>\n",
       "      <td>Acumulo de água sobre o pavimento</td>\n",
       "      <td>Saída de leito carroçável</td>\n",
       "      <td>...</td>\n",
       "      <td>0</td>\n",
       "      <td>1</td>\n",
       "      <td>0</td>\n",
       "      <td>0</td>\n",
       "      <td>1</td>\n",
       "      <td>-15,638752</td>\n",
       "      <td>-47,749599</td>\n",
       "      <td>SPRF-DF</td>\n",
       "      <td>DEL02-DF</td>\n",
       "      <td>UOP01-DEL02-DF</td>\n",
       "    </tr>\n",
       "    <tr>\n",
       "      <th>358</th>\n",
       "      <td>573852.0</td>\n",
       "      <td>2024-01-10</td>\n",
       "      <td>quarta-feira</td>\n",
       "      <td>20:00:00</td>\n",
       "      <td>DF</td>\n",
       "      <td>80</td>\n",
       "      <td>13</td>\n",
       "      <td>BRASILIA</td>\n",
       "      <td>Pista esburacada</td>\n",
       "      <td>Colisão frontal</td>\n",
       "      <td>...</td>\n",
       "      <td>0</td>\n",
       "      <td>1</td>\n",
       "      <td>0</td>\n",
       "      <td>1</td>\n",
       "      <td>2</td>\n",
       "      <td>-15,728034</td>\n",
       "      <td>-48,193768</td>\n",
       "      <td>SPRF-DF</td>\n",
       "      <td>DEL03-DF</td>\n",
       "      <td>UOP02-DEL03-DF</td>\n",
       "    </tr>\n",
       "    <tr>\n",
       "      <th>1194</th>\n",
       "      <td>577831.0</td>\n",
       "      <td>2024-01-29</td>\n",
       "      <td>segunda-feira</td>\n",
       "      <td>13:33:00</td>\n",
       "      <td>DF</td>\n",
       "      <td>20</td>\n",
       "      <td>28</td>\n",
       "      <td>BRASILIA</td>\n",
       "      <td>Ausência de reação do condutor</td>\n",
       "      <td>Colisão traseira</td>\n",
       "      <td>...</td>\n",
       "      <td>0</td>\n",
       "      <td>8</td>\n",
       "      <td>0</td>\n",
       "      <td>2</td>\n",
       "      <td>2</td>\n",
       "      <td>-15,598319</td>\n",
       "      <td>-47,621925</td>\n",
       "      <td>SPRF-DF</td>\n",
       "      <td>DEL02-DF</td>\n",
       "      <td>UOP01-DEL02-DF</td>\n",
       "    </tr>\n",
       "    <tr>\n",
       "      <th>1475</th>\n",
       "      <td>578961.0</td>\n",
       "      <td>2024-02-04</td>\n",
       "      <td>domingo</td>\n",
       "      <td>16:20:00</td>\n",
       "      <td>DF</td>\n",
       "      <td>20</td>\n",
       "      <td>11</td>\n",
       "      <td>BRASILIA</td>\n",
       "      <td>Chuva</td>\n",
       "      <td>Tombamento</td>\n",
       "      <td>...</td>\n",
       "      <td>0</td>\n",
       "      <td>1</td>\n",
       "      <td>0</td>\n",
       "      <td>1</td>\n",
       "      <td>1</td>\n",
       "      <td>-15,64654</td>\n",
       "      <td>-47,766422</td>\n",
       "      <td>SPRF-DF</td>\n",
       "      <td>DEL02-DF</td>\n",
       "      <td>UOP01-DEL02-DF</td>\n",
       "    </tr>\n",
       "    <tr>\n",
       "      <th>1947</th>\n",
       "      <td>581270.0</td>\n",
       "      <td>2024-02-15</td>\n",
       "      <td>quinta-feira</td>\n",
       "      <td>09:40:00</td>\n",
       "      <td>DF</td>\n",
       "      <td>251</td>\n",
       "      <td>7</td>\n",
       "      <td>BRASILIA</td>\n",
       "      <td>Acessar a via sem observar a presença dos outr...</td>\n",
       "      <td>Colisão transversal</td>\n",
       "      <td>...</td>\n",
       "      <td>0</td>\n",
       "      <td>1</td>\n",
       "      <td>3</td>\n",
       "      <td>1</td>\n",
       "      <td>5</td>\n",
       "      <td>-15,998561</td>\n",
       "      <td>-47,565559</td>\n",
       "      <td>SPRF-DF</td>\n",
       "      <td>DEL01-DF</td>\n",
       "      <td>UOP01-DEL01-DF</td>\n",
       "    </tr>\n",
       "  </tbody>\n",
       "</table>\n",
       "<p>5 rows × 30 columns</p>\n",
       "</div>"
      ],
      "text/plain": [
       "            id data_inversa     dia_semana   horario  uf   br  km municipio  \\\n",
       "263   573425.0   2024-01-08  segunda-feira  18:00:00  DF   20  13  BRASILIA   \n",
       "358   573852.0   2024-01-10   quarta-feira  20:00:00  DF   80  13  BRASILIA   \n",
       "1194  577831.0   2024-01-29  segunda-feira  13:33:00  DF   20  28  BRASILIA   \n",
       "1475  578961.0   2024-02-04        domingo  16:20:00  DF   20  11  BRASILIA   \n",
       "1947  581270.0   2024-02-15   quinta-feira  09:40:00  DF  251   7  BRASILIA   \n",
       "\n",
       "                                         causa_acidente  \\\n",
       "263                   Acumulo de água sobre o pavimento   \n",
       "358                                    Pista esburacada   \n",
       "1194                     Ausência de reação do condutor   \n",
       "1475                                              Chuva   \n",
       "1947  Acessar a via sem observar a presença dos outr...   \n",
       "\n",
       "                  tipo_acidente  ... feridos_graves ilesos ignorados feridos  \\\n",
       "263   Saída de leito carroçável  ...              0      1         0       0   \n",
       "358             Colisão frontal  ...              0      1         0       1   \n",
       "1194           Colisão traseira  ...              0      8         0       2   \n",
       "1475                 Tombamento  ...              0      1         0       1   \n",
       "1947        Colisão transversal  ...              0      1         3       1   \n",
       "\n",
       "     veiculos    latitude   longitude  regional  delegacia             uop  \n",
       "263         1  -15,638752  -47,749599   SPRF-DF   DEL02-DF  UOP01-DEL02-DF  \n",
       "358         2  -15,728034  -48,193768   SPRF-DF   DEL03-DF  UOP02-DEL03-DF  \n",
       "1194        2  -15,598319  -47,621925   SPRF-DF   DEL02-DF  UOP01-DEL02-DF  \n",
       "1475        1   -15,64654  -47,766422   SPRF-DF   DEL02-DF  UOP01-DEL02-DF  \n",
       "1947        5  -15,998561  -47,565559   SPRF-DF   DEL01-DF  UOP01-DEL01-DF  \n",
       "\n",
       "[5 rows x 30 columns]"
      ]
     },
     "execution_count": 4,
     "metadata": {},
     "output_type": "execute_result"
    }
   ],
   "source": [
    "ac_df = df[df['uf'] == 'DF']\n",
    "ac_df.head()"
   ]
  },
  {
   "cell_type": "code",
   "execution_count": 5,
   "metadata": {},
   "outputs": [
    {
     "name": "stdout",
     "output_type": "stream",
     "text": [
      "<class 'pandas.core.frame.DataFrame'>\n",
      "Index: 515 entries, 263 to 35038\n",
      "Data columns (total 30 columns):\n",
      " #   Column                  Non-Null Count  Dtype  \n",
      "---  ------                  --------------  -----  \n",
      " 0   id                      515 non-null    float64\n",
      " 1   data_inversa            515 non-null    object \n",
      " 2   dia_semana              515 non-null    object \n",
      " 3   horario                 515 non-null    object \n",
      " 4   uf                      515 non-null    object \n",
      " 5   br                      515 non-null    int64  \n",
      " 6   km                      515 non-null    object \n",
      " 7   municipio               515 non-null    object \n",
      " 8   causa_acidente          515 non-null    object \n",
      " 9   tipo_acidente           515 non-null    object \n",
      " 10  classificacao_acidente  515 non-null    object \n",
      " 11  fase_dia                515 non-null    object \n",
      " 12  sentido_via             515 non-null    object \n",
      " 13  condicao_metereologica  515 non-null    object \n",
      " 14  tipo_pista              515 non-null    object \n",
      " 15  tracado_via             515 non-null    object \n",
      " 16  uso_solo                515 non-null    object \n",
      " 17  pessoas                 515 non-null    int64  \n",
      " 18  mortos                  515 non-null    int64  \n",
      " 19  feridos_leves           515 non-null    int64  \n",
      " 20  feridos_graves          515 non-null    int64  \n",
      " 21  ilesos                  515 non-null    int64  \n",
      " 22  ignorados               515 non-null    int64  \n",
      " 23  feridos                 515 non-null    int64  \n",
      " 24  veiculos                515 non-null    int64  \n",
      " 25  latitude                515 non-null    object \n",
      " 26  longitude               515 non-null    object \n",
      " 27  regional                515 non-null    object \n",
      " 28  delegacia               512 non-null    object \n",
      " 29  uop                     512 non-null    object \n",
      "dtypes: float64(1), int64(9), object(20)\n",
      "memory usage: 124.7+ KB\n"
     ]
    }
   ],
   "source": [
    "ac_df.info(max_cols=30)"
   ]
  },
  {
   "cell_type": "markdown",
   "metadata": {},
   "source": [
    "### Limpando e convertendo os dados"
   ]
  },
  {
   "cell_type": "code",
   "execution_count": 6,
   "metadata": {},
   "outputs": [],
   "source": [
    "ac_df = ac_df.replace(',', '.', regex=True)\n",
    "ac_df = ac_df[['latitude', 'longitude']].astype('float')\n"
   ]
  },
  {
   "cell_type": "markdown",
   "metadata": {},
   "source": [
    "### Criando mapa de calor para ver maior índice de acidentes"
   ]
  },
  {
   "cell_type": "code",
   "execution_count": 7,
   "metadata": {},
   "outputs": [],
   "source": [
    "mapa = folium.Map(location=[-15.7801, -47.9292], zoom_start=10.4)\n",
    "dados_heatmap = ac_df[['latitude', 'longitude']].values.tolist()\n",
    "HeatMap(dados_heatmap).add_to(mapa)\n",
    "mapa.save('mapa_calor.html')\n"
   ]
  },
  {
   "cell_type": "markdown",
   "metadata": {},
   "source": [
    "### Observando as fases do dia em acontecem os acidentes"
   ]
  },
  {
   "cell_type": "code",
   "execution_count": 39,
   "metadata": {},
   "outputs": [],
   "source": [
    "df = df[df['uf'] == 'DF']\n",
    "df_fasedia = df.groupby(['municipio', 'fase_dia']).size()"
   ]
  },
  {
   "cell_type": "code",
   "execution_count": 37,
   "metadata": {},
   "outputs": [
    {
     "data": {
      "text/plain": [
       "<AxesSubplot: xlabel='municipio,fase_dia'>"
      ]
     },
     "execution_count": 37,
     "metadata": {},
     "output_type": "execute_result"
    },
    {
     "data": {
      "image/png": "[encoded data removed]",
      "text/plain": [
       "<Figure size 640x480 with 1 Axes>"
      ]
     },
     "metadata": {},
     "output_type": "display_data"
    }
   ],
   "source": [
    "df_fasedia.plot(kind='bar')"
   ]
  },
  {
   "cell_type": "code",
   "execution_count": 59,
   "metadata": {},
   "outputs": [
    {
     "data": {
      "text/html": [
       "<div>\n",
       "<style scoped>\n",
       "    .dataframe tbody tr th:only-of-type {\n",
       "        vertical-align: middle;\n",
       "    }\n",
       "\n",
       "    .dataframe tbody tr th {\n",
       "        vertical-align: top;\n",
       "    }\n",
       "\n",
       "    .dataframe thead th {\n",
       "        text-align: right;\n",
       "    }\n",
       "</style>\n",
       "<table border=\"1\" class=\"dataframe\">\n",
       "  <thead>\n",
       "    <tr style=\"text-align: right;\">\n",
       "      <th></th>\n",
       "      <th>municipio</th>\n",
       "      <th>fase_dia</th>\n",
       "      <th>causa_acidente</th>\n",
       "      <th>quantidade</th>\n",
       "    </tr>\n",
       "  </thead>\n",
       "  <tbody>\n",
       "    <tr>\n",
       "      <th>0</th>\n",
       "      <td>BRASILIA</td>\n",
       "      <td>Amanhecer</td>\n",
       "      <td>Acessar a via sem observar a presença dos outr...</td>\n",
       "      <td>4</td>\n",
       "    </tr>\n",
       "    <tr>\n",
       "      <th>1</th>\n",
       "      <td>BRASILIA</td>\n",
       "      <td>Amanhecer</td>\n",
       "      <td>Animais na Pista</td>\n",
       "      <td>1</td>\n",
       "    </tr>\n",
       "    <tr>\n",
       "      <th>2</th>\n",
       "      <td>BRASILIA</td>\n",
       "      <td>Amanhecer</td>\n",
       "      <td>Ausência de reação do condutor</td>\n",
       "      <td>4</td>\n",
       "    </tr>\n",
       "    <tr>\n",
       "      <th>3</th>\n",
       "      <td>BRASILIA</td>\n",
       "      <td>Amanhecer</td>\n",
       "      <td>Condutor Dormindo</td>\n",
       "      <td>1</td>\n",
       "    </tr>\n",
       "    <tr>\n",
       "      <th>4</th>\n",
       "      <td>BRASILIA</td>\n",
       "      <td>Amanhecer</td>\n",
       "      <td>Condutor deixou de manter distância do veículo...</td>\n",
       "      <td>1</td>\n",
       "    </tr>\n",
       "    <tr>\n",
       "      <th>...</th>\n",
       "      <td>...</td>\n",
       "      <td>...</td>\n",
       "      <td>...</td>\n",
       "      <td>...</td>\n",
       "    </tr>\n",
       "    <tr>\n",
       "      <th>75</th>\n",
       "      <td>BRASILIA</td>\n",
       "      <td>Pleno dia</td>\n",
       "      <td>Transitar na contramão</td>\n",
       "      <td>1</td>\n",
       "    </tr>\n",
       "    <tr>\n",
       "      <th>76</th>\n",
       "      <td>BRASILIA</td>\n",
       "      <td>Pleno dia</td>\n",
       "      <td>Transitar no Acostamento</td>\n",
       "      <td>2</td>\n",
       "    </tr>\n",
       "    <tr>\n",
       "      <th>77</th>\n",
       "      <td>BRASILIA</td>\n",
       "      <td>Pleno dia</td>\n",
       "      <td>Ultrapassagem Indevida</td>\n",
       "      <td>2</td>\n",
       "    </tr>\n",
       "    <tr>\n",
       "      <th>78</th>\n",
       "      <td>BRASILIA</td>\n",
       "      <td>Pleno dia</td>\n",
       "      <td>Velocidade Incompatível</td>\n",
       "      <td>5</td>\n",
       "    </tr>\n",
       "    <tr>\n",
       "      <th>79</th>\n",
       "      <td>BRASILIA</td>\n",
       "      <td>Pleno dia</td>\n",
       "      <td>Área urbana sem a presença de local apropriado...</td>\n",
       "      <td>1</td>\n",
       "    </tr>\n",
       "  </tbody>\n",
       "</table>\n",
       "<p>80 rows × 4 columns</p>\n",
       "</div>"
      ],
      "text/plain": [
       "   municipio   fase_dia                                     causa_acidente  \\\n",
       "0   BRASILIA  Amanhecer  Acessar a via sem observar a presença dos outr...   \n",
       "1   BRASILIA  Amanhecer                                   Animais na Pista   \n",
       "2   BRASILIA  Amanhecer                     Ausência de reação do condutor   \n",
       "3   BRASILIA  Amanhecer                                  Condutor Dormindo   \n",
       "4   BRASILIA  Amanhecer  Condutor deixou de manter distância do veículo...   \n",
       "..       ...        ...                                                ...   \n",
       "75  BRASILIA  Pleno dia                             Transitar na contramão   \n",
       "76  BRASILIA  Pleno dia                           Transitar no Acostamento   \n",
       "77  BRASILIA  Pleno dia                             Ultrapassagem Indevida   \n",
       "78  BRASILIA  Pleno dia                            Velocidade Incompatível   \n",
       "79  BRASILIA  Pleno dia  Área urbana sem a presença de local apropriado...   \n",
       "\n",
       "    quantidade  \n",
       "0            4  \n",
       "1            1  \n",
       "2            4  \n",
       "3            1  \n",
       "4            1  \n",
       "..         ...  \n",
       "75           1  \n",
       "76           2  \n",
       "77           2  \n",
       "78           5  \n",
       "79           1  \n",
       "\n",
       "[80 rows x 4 columns]"
      ]
     },
     "execution_count": 59,
     "metadata": {},
     "output_type": "execute_result"
    }
   ],
   "source": [
    "df_causas = df.groupby(['municipio', 'fase_dia', 'causa_acidente']).size()\n",
    "df_causas = df_causas.reset_index()\n",
    "df_causas = df_causas.rename(columns={0:'quantidade'})\n",
    "df_causas.to_excel('df_causas.xlsx', index=False)\n",
    "df_causas"
   ]
  },
  {
   "cell_type": "markdown",
   "metadata": {},
   "source": [
    "### Observando quantiades de mortes e feridos em acidentes neste ano"
   ]
  },
  {
   "cell_type": "code",
   "execution_count": 68,
   "metadata": {},
   "outputs": [
    {
     "data": {
      "text/plain": [
       "mortos       9\n",
       "feridos    568\n",
       "dtype: int64"
      ]
     },
     "execution_count": 68,
     "metadata": {},
     "output_type": "execute_result"
    }
   ],
   "source": [
    "df[['mortos', 'feridos']].sum()\n"
   ]
  }
 ],
 "metadata": {
  "kernelspec": {
   "display_name": "Python 3",
   "language": "python",
   "name": "python3"
  },
  "language_info": {
   "codemirror_mode": {
    "name": "ipython",
    "version": 3
   },
   "file_extension": ".py",
   "mimetype": "text/x-python",
   "name": "python",
   "nbconvert_exporter": "python",
   "pygments_lexer": "ipython3",
   "version": "3.12.3"
  }
 },
 "nbformat": 4,
 "nbformat_minor": 2
}
